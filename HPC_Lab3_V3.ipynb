{
  "nbformat": 4,
  "nbformat_minor": 0,
  "metadata": {
    "colab": {
      "name": "HPC.Lab3.V3.ipynb",
      "provenance": [],
      "collapsed_sections": [],
      "authorship_tag": "ABX9TyMz7O2kxQjAlqOqdD5gB1uz",
      "include_colab_link": true
    },
    "kernelspec": {
      "name": "python3",
      "display_name": "Python 3"
    },
    "language_info": {
      "name": "python"
    }
  },
  "cells": [
    {
      "cell_type": "markdown",
      "metadata": {
        "id": "view-in-github",
        "colab_type": "text"
      },
      "source": [
        "<a href=\"https://colab.research.google.com/github/AndreyBuyanov/HPC.Lab3/blob/main/HPC_Lab3_V3.ipynb\" target=\"_parent\"><img src=\"https://colab.research.google.com/assets/colab-badge.svg\" alt=\"Open In Colab\"/></a>"
      ]
    },
    {
      "cell_type": "code",
      "metadata": {
        "colab": {
          "resources": {
            "http://localhost:8080/nbextensions/google.colab/files.js": {
              "data": "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",
              "ok": true,
              "headers": [
                [
                  "content-type",
                  "application/javascript"
                ]
              ],
              "status": 200,
              "status_text": ""
            }
          },
          "base_uri": "https://localhost:8080/",
          "height": 89
        },
        "id": "NHCvEQs0K9Qq",
        "outputId": "71381274-4db5-4c73-9402-652363a88f08"
      },
      "source": [
        "import os\n",
        "os.environ['APACHE_SPARK_DISTR_NAME'] = 'spark-3.0.2-bin-hadoop2.7'\n",
        "os.environ['APACHE_SPARK_URL'] = 'https://downloads.apache.org/spark/spark-3.0.2/spark-3.0.2-bin-hadoop2.7.tgz'\n",
        "os.environ['JAVA_HOME'] = '/usr/lib/jvm/java-11-openjdk-amd64'\n",
        "os.environ['SPARK_HOME'] = '/content/spark-3.0.2-bin-hadoop2.7'\n",
        "from google.colab import files\n",
        "files.upload()"
      ],
      "execution_count": null,
      "outputs": [
        {
          "output_type": "display_data",
          "data": {
            "text/html": [
              "\n",
              "     <input type=\"file\" id=\"files-53f0f2bf-2a72-4caa-be0b-b97019fdffab\" name=\"files[]\" multiple disabled\n",
              "        style=\"border:none\" />\n",
              "     <output id=\"result-53f0f2bf-2a72-4caa-be0b-b97019fdffab\">\n",
              "      Upload widget is only available when the cell has been executed in the\n",
              "      current browser session. Please rerun this cell to enable.\n",
              "      </output>\n",
              "      <script src=\"/nbextensions/google.colab/files.js\"></script> "
            ],
            "text/plain": [
              "<IPython.core.display.HTML object>"
            ]
          },
          "metadata": {
            "tags": []
          }
        },
        {
          "output_type": "stream",
          "text": [
            "Saving kaggle.json to kaggle (1).json\n"
          ],
          "name": "stdout"
        },
        {
          "output_type": "execute_result",
          "data": {
            "text/plain": [
              "{'kaggle.json': b'{\"username\":\"andreew\",\"key\":\"9237cca134821160d9d733ffd68a809c\"}'}"
            ]
          },
          "metadata": {
            "tags": []
          },
          "execution_count": 18
        }
      ]
    },
    {
      "cell_type": "code",
      "metadata": {
        "colab": {
          "base_uri": "https://localhost:8080/"
        },
        "id": "y1Dwpj1iLE1a",
        "outputId": "056d2f05-b22f-4ff5-c50e-dd8090d7b18c"
      },
      "source": [
        "%%bash\n",
        "apt-get install openjdk-11-jdk-headless -qq > /dev/null\n",
        "[ ! -d $APACHE_SPARK_DISTR_NAME ] \\\n",
        "   && wget -q $APACHE_SPARK_URL \\\n",
        "   && tar xf $APACHE_SPARK_DISTR_NAME.tgz \\\n",
        "   && rm -f $APACHE_SPARK_DISTR_NAME.tgz\n",
        "pip install findspark > /dev/null\n",
        "mkdir /root/.kaggle\n",
        "cp kaggle.json /root/.kaggle\n",
        "chmod 600 /root/.kaggle/kaggle.json\n",
        "[ ! -f FIFA.csv ] \\\n",
        "    && kaggle datasets download -d rgupta09/world-cup-2018-tweets \\\n",
        "    && unzip -q world-cup-2018-tweets \\\n",
        "    && rm -f world-cup-2018-tweets.zip"
      ],
      "execution_count": null,
      "outputs": [
        {
          "output_type": "stream",
          "text": [
            "mkdir: cannot create directory ‘/root/.kaggle’: File exists\n"
          ],
          "name": "stderr"
        }
      ]
    },
    {
      "cell_type": "code",
      "metadata": {
        "id": "gCNdL-tOLG4Y"
      },
      "source": [
        "import findspark\n",
        "findspark.init()\n",
        "\n",
        "from pyspark.sql import SparkSession\n",
        "spark = SparkSession.builder.master('local').appName(\"HPC.Lab3\").getOrCreate()"
      ],
      "execution_count": null,
      "outputs": []
    },
    {
      "cell_type": "code",
      "metadata": {
        "colab": {
          "base_uri": "https://localhost:8080/"
        },
        "id": "dHd2bGS0LIvJ",
        "outputId": "3086a961-6c08-4ea7-a02e-e3fd7a9678d2"
      },
      "source": [
        "main_df = spark.read.csv('FIFA.csv', header=True, multiLine=True, escape=\"\\\"\")\n",
        "main_df.show(truncate=False)"
      ],
      "execution_count": null,
      "outputs": [
        {
          "output_type": "stream",
          "text": [
            "+-------------------+----+-------------------+-------------------+---+----------------------------------------------------------------------------------------------------------------------------------------------------------------------+-------------------------------------------------------------------------------------------------------------------------+-----+----+-------------------------------------------------------+---------------------------------------------+----------------------------------------------------------+----------------------+----------------------+---------+-------+\n",
            "|ID                 |lang|Date               |Source             |len|Orig_Tweet                                                                                                                                                            |Tweet                                                                                                                    |Likes|RTs |Hashtags                                               |UserMentionNames                             |UserMentionID                                             |Name                  |Place                 |Followers|Friends|\n",
            "+-------------------+----+-------------------+-------------------+---+----------------------------------------------------------------------------------------------------------------------------------------------------------------------+-------------------------------------------------------------------------------------------------------------------------+-----+----+-------------------------------------------------------+---------------------------------------------+----------------------------------------------------------+----------------------+----------------------+---------+-------+\n",
            "|1013597060640145408|en  |2018-07-02 01:35:45|Twitter for Android|140|RT @Squawka: Only two goalkeepers have saved three penalties in a #WorldCup penalty shoot-out: \n",
            "\n",
            "1/7/2006: #POR's Ricardo vs. #ENG \n",
            "\n",
            "1/7/20…                          |Only two goalkeepers have saved three penalties in penalty shoot out Ricardo vs                                          |0    |477 |WorldCup,POR,ENG                                       |Squawka Football                             |Squawka                                                   |Cayleb                |Accra                 |861      |828    |\n",
            "|1013597056219295744|en  |2018-07-02 01:35:44|Twitter for Android|139|RT @FCBarcelona: ?? @ivanrakitic scores the winning penalty to send @HNS_CFF into the #WorldCup quarter-finals, where they'll face Russia!…                           |scores the winning penalty to send into the quarter finals where they will face Russia                                   |0    |1031|WorldCup                                               |FC Barcelona,Ivan Rakitic,HNS | CFF          |FCBarcelona,ivanrakitic,HNS_CFF                           |Febri Aditya          |Bogor                 |667      |686    |\n",
            "|1013597047482544130|en  |2018-07-02 01:35:42|Twitter for Android|107|RT @javierfernandez: Tonight we have big game.... @EvgeniPlushenko ?????? #worldcup https://t.co/LKifuNlubC                                                           |Tonight we have big game                                                                                                 |0    |488 |worldcup                                               |Javier Fernandez,Evgeni Plushenko            |javierfernandez,EvgeniPlushenko                           |??                    |null                  |65       |67     |\n",
            "|1013597044198391808|en  |2018-07-02 01:35:41|Twitter Web Client |142|We get stronger\n",
            "Turn the music up now\n",
            "We got that power power~\n",
            "\n",
            "#PowerByEXO #WorldCup #FIFAStadiumDJ #XiuminLeague \n",
            "@weareoneEXO @FIFAWorldCup                        |We get stronger Turn the music up now We got that power power                                                            |0    |0   |PowerByEXO,WorldCup,FIFAStadiumDJ,XiuminLeague         |EXO,FIFA World Cup ?                         |weareoneEXO,FIFAWorldCup                                  |Frida Carrillo        |Zapopan, Jalisco      |17       |89     |\n",
            "|1013597039999926272|en  |2018-07-02 01:35:40|Twitter for Android|140|RT @Squawka: Only two goalkeepers have saved three penalties in a #WorldCup penalty shoot-out: \n",
            "\n",
            "1/7/2006: #POR's Ricardo vs. #ENG \n",
            "\n",
            "1/7/20…                          |Only two goalkeepers have saved three penalties in penalty shoot out Ricardo vs                                          |0    |477 |WorldCup,POR,ENG                                       |Squawka Football                             |Squawka                                                   |tar                   |null                  |137      |216    |\n",
            "|1013597039995867143|en  |2018-07-02 01:35:40|Twitter for Android|140|RT @FIFAWorldCup: \"We’re looking strong going into the knockout stage\" ?\n",
            "We caught up with @CBF_Futebol's @Casemiro ahead of #BRAMEX\n",
            "#World…                          |We re looking strong going into the knockout stage We caught up with ahead of                                            |0    |153 |BRAMEX                                                 |FIFA World Cup ?,CBF Futebol,Casemiro        |FIFAWorldCup,CBF_Futebol,Casemiro                         |Ligefut               |null                  |29       |283    |\n",
            "|1013597039978995712|en  |2018-07-02 01:35:40|Twitter for iPhone |140|RT @ShShShShShSh555: I'm happy for #Russia winning. Especially since, you know, we colluded and all. \n",
            "Russia eliminates Spain after penalty…                          |am happy for winning Especially since you know we colluded and all Russia eliminates Spain after penalty                 |0    |4   |Russia                                                 |V?Deplorable?45  ??                          |ShShShShShSh555                                           |?a?????               |Mount Olympus         |208      |338    |\n",
            "|1013597038951436288|en  |2018-07-02 01:35:40|Twitter Web Client |138|RT @FridaCarrillo05: When you see me\n",
            "When we feel the same feeling\n",
            "Power power~\n",
            "\n",
            "?????\n",
            "#PowerByEXO #WorldCup #FIFAStadiumDJ #XiuminLeague…                            |When you see me When we feel the same feeling Power power                                                                |0    |1   |PowerByEXO,WorldCup,FIFAStadiumDJ,XiuminLeague         |Frida Carrillo                               |FridaCarrillo05                                           |STAN LEGENDS, STAN EXO|Lima, Peru            |7        |9      |\n",
            "|1013597038188154880|en  |2018-07-02 01:35:40|Twitter for Android|138|RT @FIFAWorldCup: Kasper Schmeichel takes the final @Budweiser #ManoftheMatch award of the day ?\n",
            "#CRODEN #WorldCup https://t.co/2XfblBT7ki                            |Kasper Schmeichel takes the final award of the day                                                                       |0    |2199|ManoftheMatch,CRODEN,WorldCup                          |FIFA World Cup ?,Budweiser                   |FIFAWorldCup,Budweiser                                    |Sky Ler               |null                  |1        |6      |\n",
            "|1013597037118525440|en  |2018-07-02 01:35:40|Twitter Lite       |139|RT @BTSARMYNA: .@BTS_twt After 5 Years\n",
            "1. Global Puma Ambassador\n",
            "2. LG Mobile Ambassador\n",
            "3. CocaCola WorldCup\n",
            "4. Kookmin Bank\n",
            "5. UNICEF\n",
            "6.…                           |After Years Global Puma Ambassador LG Mobile Ambassador CocaCola WorldCup Kookmin Bank UNICEF                            |0    |5146|null                                                   |???? & ???? ???? ™ ??,?????                  |BTSARMYNA,BTS_twt                                         |Kate                  |Meme City             |158      |245    |\n",
            "|1013597036178956288|en  |2018-07-02 01:35:39|Twitter for Android|86 |RT @EllaPangilinanx: Idek what to do anymore. \n",
            "Spain and Portugal both out ? #WorldCup                                                                                |Idek what to do anymore Spain and Portugal both out                                                                      |0    |1   |WorldCup                                               |Ella Laxa-Pangilinan                         |EllaPangilinanx                                           |Alice                 |Bulacan, Central Luzon|34       |315    |\n",
            "|1013597036090818560|en  |2018-07-02 01:35:39|Twitter for Android|135|RT @SiClancy: I know it’s been an amazing World Cup but this is a bit too much excitement from Nacho. #worldcup https://t.co/PUCzb7nLP1                               |know it been an amazing World Cup but this is bit too much excitement from Nacho                                         |0    |3817|worldcup                                               |Simon Clancy                                 |SiClancy                                                  |Goku                  |Barcelona             |105      |51     |\n",
            "|1013597035679739904|en  |2018-07-02 01:35:39|Twitter for iPhone |139|RT @valpan026: @eunicehuili @RachelWeng3 @FIFAWorldCup @weareoneEXO #POWER by our happy virus #EXO will be a perfect choice. Happy always~…                           |by our happy virus will be perfect choice Happy always                                                                   |0    |107 |POWER,EXO                                              |Shiqi,Eunice,Rachel Weng,FIFA World Cup ?,EXO|valpan026,eunicehuili,RachelWeng3,FIFAWorldCup,weareoneEXO|ELyXiOn               |null                  |12       |88     |\n",
            "|1013597035629555712|en  |2018-07-02 01:35:39|Twitter for iPad   |166|Get the best in sports news and information by going to https://t.co/FMD00iDrGp new shows coming soon! #sportstalk #sportstalkradio #NBA #NHL #MLB #NFL #PGA #WORLDCUP|Get the best in sports news and information by going to new shows coming soon                                            |0    |0   |sportstalk,sportstalkradio,NBA,NHL,MLB,NFL,PGA,WORLDCUP|null                                         |null                                                      |JSA                   |null                  |1978     |4288   |\n",
            "|1013597035407298560|en  |2018-07-02 01:35:39|Twitter for iPad   |140|RT @IanStaffs: Just worked out that if England can get past Colombia (probable) then either Sweden or Switzerland in the quarters (very doa…                          |Just worked out that if England can get past Colombia probable then either Sweden or Switzerland in the quarters very doa|0    |7   |null                                                   |Ian Stafford                                 |IanStaffs                                                 |SKS Media India       |Mumbai, India         |2147     |2403   |\n",
            "|1013597030546051072|en  |2018-07-02 01:35:38|Twitter for iPhone |139|RT @CCFCFan1927: People getting rightly excited over Mbappe after his performance at 19.\n",
            "Let's not forget though, the man they were hating…                           |People getting rightly excited over Mbappe after his performance at Lets not forget though the man they were hating      |0    |6889|null                                                   |CCFCFan                                      |CCFCFan1927                                               |??                    |The netherlands       |2167     |956    |\n",
            "|1013597029623189504|en  |2018-07-02 01:35:38|Twitter for Android|88 |RT @dw_sports: 2 PENALTY SHOOTOUTS IN ONE DAY! #CRODEN #WorldCup https://t.co/Y2O33Ukv4B                                                                              |PENALTY SHOOTOUTS IN ONE DAY                                                                                             |0    |17  |CRODEN,WorldCup                                        |DW Sports                                    |dw_sports                                                 |miikii                |Thailand              |187      |188    |\n",
            "|1013597029434474497|en  |2018-07-02 01:35:38|Twitter Web Client |140|RT @Onyema_Donald: ?? Edinson Cavani for Napoli:\n",
            "\n",
            "? Games: 138 \n",
            "?? Goals: 104\n",
            "\n",
            "?? Edinson Cavani for PSG:\n",
            "\n",
            "? Games: 245\n",
            "?? Goals: 170\n",
            "\n",
            "?? E…                          |Edinson Cavani for Napoli Games Goals Edinson Cavani for PSG Games Goals                                                 |0    |70  |null                                                   |Your Village People                          |Onyema_Donald                                             |mattorazi             |null                  |85       |137    |\n",
            "|1013597025974169600|en  |2018-07-02 01:35:37|Twitter for Android|140|RT @FIFAWorldCup: ?? | \"Japan have never made it past the last eight, so we want to get there\" ?\n",
            "?? Can @jfa_samuraiblue reach the #WorldCu…                          |Japan have never made it past the last eight so we want to get there Can reach the                                       |0    |219 |null                                                   |FIFA World Cup ?,????????                    |FIFAWorldCup,jfa_samuraiblue                              |Michelle??#StanBAP    |Orange County, CA     |109      |297    |\n",
            "|1013597022992195585|en  |2018-07-02 01:35:36|Twitter for iPad   |120|RT @IanStaffs: Wonder what the odds were on Messi, Ronaldo and Modric all missing penalties at this world cup? #WorldCup                                              |Wonder what the odds were on Messi Ronaldo and Modric all missing penalties at this world cup                            |0    |4   |WorldCup                                               |Ian Stafford                                 |IanStaffs                                                 |SKS Media India       |Mumbai, India         |2147     |2403   |\n",
            "+-------------------+----+-------------------+-------------------+---+----------------------------------------------------------------------------------------------------------------------------------------------------------------------+-------------------------------------------------------------------------------------------------------------------------+-----+----+-------------------------------------------------------+---------------------------------------------+----------------------------------------------------------+----------------------+----------------------+---------+-------+\n",
            "only showing top 20 rows\n",
            "\n"
          ],
          "name": "stdout"
        }
      ]
    },
    {
      "cell_type": "code",
      "metadata": {
        "id": "RH8ouDhb20nC"
      },
      "source": [
        "# Функция сортирует словарь dict ПО ЗНАЧЕНИЮ\n",
        "def sort_dict_by_value(dict, reverse=True):\n",
        "    return {key: value for key, value in sorted(dict.items(), key=lambda x: x[1], reverse=reverse)}"
      ],
      "execution_count": null,
      "outputs": []
    },
    {
      "cell_type": "code",
      "metadata": {
        "id": "1fF24hInbaJw"
      },
      "source": [
        "# Функция возвращает список первых n элементов из коллекции iterable\n",
        "from itertools import islice\n",
        "def take(n, iterable):\n",
        "    return list(islice(iterable, n))"
      ],
      "execution_count": null,
      "outputs": []
    },
    {
      "cell_type": "code",
      "metadata": {
        "id": "vvwFGZ4hbs9c"
      },
      "source": [
        "def print_line(length=30):\n",
        "    print('-' * length)"
      ],
      "execution_count": null,
      "outputs": []
    },
    {
      "cell_type": "markdown",
      "metadata": {
        "id": "t8xFKswob5ML"
      },
      "source": [
        "Создадим 5 временных промежутков"
      ]
    },
    {
      "cell_type": "code",
      "metadata": {
        "id": "yuQ9-yJtN-nt",
        "colab": {
          "base_uri": "https://localhost:8080/"
        },
        "outputId": "15751ff5-6fa9-4d61-e42f-3459e5ab9a88"
      },
      "source": [
        "import datetime as dt\n",
        "month = 7\n",
        "days = [1, 2, 3, 4, 10]\n",
        "# Создадим список, элементами которого являются кортежи, состоящие из 2-х элементов (типа datetime): начало и конец временного промежутка\n",
        "periods = [(dt.datetime(2018, month, day, 0, 0, 0), dt.datetime(2018, month, day, 23, 59, 59)) for day in days]\n",
        "# Отобразим получившиеся временные промежутки\n",
        "for period in periods:\n",
        "    print(f'Period from {period[0]} to {period[1]}')"
      ],
      "execution_count": null,
      "outputs": [
        {
          "output_type": "stream",
          "text": [
            "Period from 2018-07-01 00:00:00 to 2018-07-01 23:59:59\n",
            "Period from 2018-07-02 00:00:00 to 2018-07-02 23:59:59\n",
            "Period from 2018-07-03 00:00:00 to 2018-07-03 23:59:59\n",
            "Period from 2018-07-04 00:00:00 to 2018-07-04 23:59:59\n",
            "Period from 2018-07-10 00:00:00 to 2018-07-10 23:59:59\n"
          ],
          "name": "stdout"
        }
      ]
    },
    {
      "cell_type": "markdown",
      "metadata": {
        "id": "70hNqshEEg77"
      },
      "source": [
        "1. Определить десять наиболее упоминаемых хештегов для каждого выбранного временного промежутка"
      ]
    },
    {
      "cell_type": "code",
      "metadata": {
        "colab": {
          "base_uri": "https://localhost:8080/"
        },
        "id": "l5wRbLCjP8LF",
        "outputId": "3085e62a-0c1a-4c36-9552-93a7d776fcda"
      },
      "source": [
        "#!!!!!!!!!!!! Этот блок кода выполняется достаточно долго\n",
        "excluded_hashtag = 'WorldCup' # По условию задачи этот тег необходимо исключить\n",
        "# Формат даты-времени в датасете\n",
        "datetime_format='%Y-%m-%d %H:%M:%S'\n",
        "# Количество хэштегов\n",
        "hashtags_count = 10\n",
        "# Будем хранить результат в списке\n",
        "hashtags_by_period = []\n",
        "# Проходим по каждому временному промежутку\n",
        "for period in periods:\n",
        "        # 1. map(lambda x: (dt.datetime.strptime(x['Date'], datetime_format), x['Hashtags']))\n",
        "        # Преобразуем элементы. Из всего датасета нам нужны только 2 столбца: Date и Hashtags\n",
        "        # map - применение заданной функции к каждой строке датасета и получение на выходе нового датасета\n",
        "        # x - объект типа Row, x['Date'] - дата в виде строки, x['Hashtags'] - хэштеги в виде строки\n",
        "        # Создадим рдд, состояший из одного столбца, элемент в ячейке - кортеж из двух элементов:\n",
        "        # первый элемент - дата-время в виде объекта datetime (преобразуем на месте из строки. Это необходимо для сравнения, тк сравнивать строки так себе затея)\n",
        "        # второй элемент - хэштеги в виде строки\n",
        "        # 2. filter\n",
        "        # Применяем фильтр: х - кортеж вида (datetime, строка_с_хэштегами)\n",
        "        #                                      x[0]           x[1]\n",
        "        # В итоге выбираем такие ячейки из рдд, дата которых больше начала временного промежутка и меньше конца временного промежутка\n",
        "        # а также имеет непустое значение хэштегов (иначе код ниже, там где split вернёт ошибку, те игнорим строки без хэштегов)\n",
        "        # 3. flatMap\n",
        "        # Самое сложное как по мне это то, что в ячейке может быть несколько хэштегов, а нам они нужны по отдельности.\n",
        "        # Поэтому выделим отдельные хэштеги, получаем список хэштегов - x[1].split(',')\n",
        "        # Хэштеги из списка нужно поместить в отдельные строки, это можно сделать с помощью flatMap\n",
        "        # Пример:\n",
        "        # пусть у нас есть рдд с одним столбцом, содержащим строки, примерно такой\n",
        "        # |---------\n",
        "        # | Hashtags\n",
        "        # |----------\n",
        "        # | \"tag1, tag2, tag3\"\n",
        "        # |------------\n",
        "        # | \"tag4, tag5\"\n",
        "        # |----------------\n",
        "        # тогда x[1].split(',') вернет список строк\n",
        "        # [ \"tag1\", \"tag2\", \"tag3\" ] и [ \"tag4\", \"tag5\" ]\n",
        "        # те \"как бы\" получим такой рдд\n",
        "        # |---------\n",
        "        # | Hashtags\n",
        "        # |----------\n",
        "        # | [ \"tag1\", \"tag2\", \"tag3\" ]\n",
        "        # |------------\n",
        "        # | [ \"tag4\", \"tag5\" ]\n",
        "        # |----------------\n",
        "        # и теперь, если применить flatMap\n",
        "        # то получим новый рдд, вот такой\n",
        "        # |---------\n",
        "        # | Hashtags\n",
        "        # |----------\n",
        "        # | \"tag1\"\n",
        "        # |------------\n",
        "        # | \"tag2\"\n",
        "        # |------------\n",
        "        # | \"tag3\"\n",
        "        # |------------\n",
        "        # | \"tag4\"\n",
        "        # |------------\n",
        "        # | \"tag5\"\n",
        "        # |------------\n",
        "        # те каждый элемент находится в отдельной ячейке\n",
        "        # 4. filter(lambda x: x != excluded_hashtag)\n",
        "        # Выбираем из рдд только ячейки, не содержащие excluded_hashtag\n",
        "        # Важно: в итоговом рдд содержатся только хештеги, даты там нет, дата нужна была только для фильтрации\n",
        "    period_rdd = main_df.rdd \\\n",
        "        .map(lambda x: (dt.datetime.strptime(x['Date'], datetime_format), x['Hashtags'])) \\\n",
        "        .filter(lambda x: x[0] > period[0] and x[0] < period[1] and x[1] != None) \\\n",
        "        .flatMap(lambda x: [hashtags for hashtags in x[1].split(',')]) \\\n",
        "        .filter(lambda x: x != excluded_hashtag)\n",
        "    # !!! В целях отладки выведем несколько первых элементов полученного рдд\n",
        "    print(f'DEBUG First 5 elements of rdd: {period_rdd.take(5)}')\n",
        "    # Посчитаем, сколько раз встречается каждый элемент в рдд\n",
        "    # Пример:\n",
        "    # пусть у нас есть такой рдд\n",
        "    # |----------\n",
        "    # | \"tag1\"\n",
        "    # |------------\n",
        "    # | \"tag2\"\n",
        "    # |------------\n",
        "    # | \"tag2\"\n",
        "    # |------------\n",
        "    # | \"tag2\"\n",
        "    # |------------\n",
        "    # | \"tag3\"\n",
        "    # |------------\n",
        "    # Тогда countByValue вернёт словарь: ключ - элемент, значение - сколько раз этот элемент встречается\n",
        "    # Получим такой словарь\n",
        "    # {\n",
        "    #    \"tag1\": 1,\n",
        "    #    \"tag2\": 3,\n",
        "    #    \"tag3\": 1,\n",
        "    # }\n",
        "    # Таким образом, мы посчитали, сколько раз каждый из тегов встречался в этом временном промежутке\n",
        "    current_hashtags = period_rdd.countByValue()\n",
        "    # Отсортируем полученный словарь по значению, те по количеству встречаемости тега\n",
        "    # те в начале окажутся наиболее популярные хэштеги\n",
        "    current_hashtags_sorted = sort_dict_by_value(current_hashtags)\n",
        "    # а теперь просто возьмём первые 10 элементов словаря (ключей и значений), это и будут топ-10 хэштегов за данный промежуток.\n",
        "    # Причём результат take - это список, в нашем случае список кортежей (ключей\\значений исходного словаря - хэштегов\\кол-во)\n",
        "    current_hashtags_with_count = take(hashtags_count, current_hashtags_sorted.items())\n",
        "    # !!! В целях отладки выведем топ-10 тегов\n",
        "    print(f'DEBUG Top-10: {current_hashtags_with_count}')\n",
        "    # Добавим к результату\n",
        "    hashtags_by_period.append(current_hashtags_with_count)"
      ],
      "execution_count": null,
      "outputs": [
        {
          "output_type": "stream",
          "text": [
            "DEBUG First 5 elements of rdd: ['DutchGP', 'GermanGP', '????????????', 'worldcup', 'RUS']\n",
            "DEBUG Top-10: [('CRODEN', 11915), ('CRO', 9837), ('DEN', 7564), ('worldcup', 5379), ('FRAARG', 3998), ('FRA', 3992), ('POR', 3616), ('FIFAStadiumDJ', 3354), ('ARG', 3229), ('ESPRUS', 2910)]\n",
            "DEBUG First 5 elements of rdd: ['POR', 'ENG', 'worldcup', 'PowerByEXO', 'FIFAStadiumDJ']\n",
            "DEBUG Top-10: [('FIFAStadiumDJ', 1830), ('PowerByEXO', 1781), ('worldcup', 703), ('ESPRUS', 572), ('CRO', 541), ('CRODEN', 454), ('DEN', 452), ('ESP', 435), ('RUS', 414), ('LayLeague', 408)]\n",
            "DEBUG First 5 elements of rdd: ['ENGCOL', 'ESP', 'ENG', 'ENG', 'ENG']\n",
            "DEBUG Top-10: [('ENG', 8629), ('ThreeLions', 4945), ('COLENG', 1921), ('worldcup', 1871), ('ENGCOL', 1452), ('SWE', 685), ('BRA', 651), ('BEL', 611), ('FRA', 608), ('URU', 601)]\n",
            "DEBUG First 5 elements of rdd: ['EXO', '??', 'FIFAStadiumDJ', 'Worldcup', 'PowerByEXO']\n",
            "DEBUG Top-10: [('EXO', 2174), ('FIFAStadiumDJ', 2163), ('ENG', 1640), ('??', 1185), ('Worldcup', 789), ('ThreeLions', 786), ('dafBAMA2018EXO', 763), ('worldcup', 632), ('HereToCreate', 544), ('PowerByEXO', 528)]\n",
            "DEBUG First 5 elements of rdd: ['FRA', 'Croatia', 'gamefeels', 'ItsComingHome', 'ENG']\n",
            "DEBUG Top-10: [('FRABEL', 18750), ('FRA', 11118), ('BEL', 7132), ('worldcup', 4678), ('ENG', 3876), ('France', 1838), ('Belgium', 1797), ('ThreeLions', 1795), ('REDTOGETHER', 1700), ('WorldCupFinal', 1627)]\n"
          ],
          "name": "stdout"
        }
      ]
    },
    {
      "cell_type": "code",
      "metadata": {
        "id": "gomhPDbqU1kW"
      },
      "source": [
        "# hashtags_by_period - это список из 5 элементов (по количеству промежутков),\n",
        "# элементы которого - это списки, элементы которых - кортежи (тег, количество)\n",
        "# Выделим только хэштеги, без количества\n",
        "hashtags = []\n",
        "# Пройдём по результату\n",
        "for hashtags_list in hashtags_by_period:\n",
        "    # Преобразуем список из кортежей в список из строк (hashtag[0] - первый элемент кортежа - хэштег)\n",
        "    current_hashtags = [hashtag[0] for hashtag in hashtags_list]\n",
        "    # Добавим к результату\n",
        "    hashtags.append(current_hashtags)"
      ],
      "execution_count": null,
      "outputs": []
    },
    {
      "cell_type": "code",
      "metadata": {
        "colab": {
          "base_uri": "https://localhost:8080/"
        },
        "id": "sv-xCmc-tbT9",
        "outputId": "b86ed369-9029-4790-d0b7-fee9d91adde6"
      },
      "source": [
        "hashtags # посмотрим, что там лежит"
      ],
      "execution_count": null,
      "outputs": [
        {
          "output_type": "execute_result",
          "data": {
            "text/plain": [
              "[['CRODEN',\n",
              "  'CRO',\n",
              "  'DEN',\n",
              "  'worldcup',\n",
              "  'FRAARG',\n",
              "  'FRA',\n",
              "  'POR',\n",
              "  'FIFAStadiumDJ',\n",
              "  'ARG',\n",
              "  'ESPRUS'],\n",
              " ['FIFAStadiumDJ',\n",
              "  'PowerByEXO',\n",
              "  'worldcup',\n",
              "  'ESPRUS',\n",
              "  'CRO',\n",
              "  'CRODEN',\n",
              "  'DEN',\n",
              "  'ESP',\n",
              "  'RUS',\n",
              "  'LayLeague'],\n",
              " ['ENG',\n",
              "  'ThreeLions',\n",
              "  'COLENG',\n",
              "  'worldcup',\n",
              "  'ENGCOL',\n",
              "  'SWE',\n",
              "  'BRA',\n",
              "  'BEL',\n",
              "  'FRA',\n",
              "  'URU'],\n",
              " ['EXO',\n",
              "  'FIFAStadiumDJ',\n",
              "  'ENG',\n",
              "  '??',\n",
              "  'Worldcup',\n",
              "  'ThreeLions',\n",
              "  'dafBAMA2018EXO',\n",
              "  'worldcup',\n",
              "  'HereToCreate',\n",
              "  'PowerByEXO'],\n",
              " ['FRABEL',\n",
              "  'FRA',\n",
              "  'BEL',\n",
              "  'worldcup',\n",
              "  'ENG',\n",
              "  'France',\n",
              "  'Belgium',\n",
              "  'ThreeLions',\n",
              "  'REDTOGETHER',\n",
              "  'WorldCupFinal']]"
            ]
          },
          "metadata": {
            "tags": []
          },
          "execution_count": 28
        }
      ]
    },
    {
      "cell_type": "markdown",
      "metadata": {
        "id": "bRvne0lytWUf"
      },
      "source": [
        "Выведем результат"
      ]
    },
    {
      "cell_type": "code",
      "metadata": {
        "colab": {
          "base_uri": "https://localhost:8080/"
        },
        "id": "4M6wZnuQE8G9",
        "outputId": "0b496481-12c0-4655-ce9b-7171d6d400ce"
      },
      "source": [
        "print_line()\n",
        "for i in range(len(periods)):\n",
        "    print(f'Period from {periods[i][0]} to {periods[i][1]}, \\ntop 10 hashtags: {hashtags[i]}')\n",
        "    print_line()"
      ],
      "execution_count": null,
      "outputs": [
        {
          "output_type": "stream",
          "text": [
            "------------------------------\n",
            "Period from 2018-07-01 00:00:00 to 2018-07-01 23:59:59, \n",
            "top 10 hashtags: ['CRODEN', 'CRO', 'DEN', 'worldcup', 'FRAARG', 'FRA', 'POR', 'FIFAStadiumDJ', 'ARG', 'ESPRUS']\n",
            "------------------------------\n",
            "Period from 2018-07-02 00:00:00 to 2018-07-02 23:59:59, \n",
            "top 10 hashtags: ['FIFAStadiumDJ', 'PowerByEXO', 'worldcup', 'ESPRUS', 'CRO', 'CRODEN', 'DEN', 'ESP', 'RUS', 'LayLeague']\n",
            "------------------------------\n",
            "Period from 2018-07-03 00:00:00 to 2018-07-03 23:59:59, \n",
            "top 10 hashtags: ['ENG', 'ThreeLions', 'COLENG', 'worldcup', 'ENGCOL', 'SWE', 'BRA', 'BEL', 'FRA', 'URU']\n",
            "------------------------------\n",
            "Period from 2018-07-04 00:00:00 to 2018-07-04 23:59:59, \n",
            "top 10 hashtags: ['EXO', 'FIFAStadiumDJ', 'ENG', '??', 'Worldcup', 'ThreeLions', 'dafBAMA2018EXO', 'worldcup', 'HereToCreate', 'PowerByEXO']\n",
            "------------------------------\n",
            "Period from 2018-07-10 00:00:00 to 2018-07-10 23:59:59, \n",
            "top 10 hashtags: ['FRABEL', 'FRA', 'BEL', 'worldcup', 'ENG', 'France', 'Belgium', 'ThreeLions', 'REDTOGETHER', 'WorldCupFinal']\n",
            "------------------------------\n"
          ],
          "name": "stdout"
        }
      ]
    },
    {
      "cell_type": "markdown",
      "metadata": {
        "id": "zxFjAIUdFM0L"
      },
      "source": [
        "2. Определить, какие из выделенных хештегов уникальны для каждого промежутка. "
      ]
    },
    {
      "cell_type": "code",
      "metadata": {
        "id": "4SSWvXco7qRp"
      },
      "source": [
        "# Вся работа ниже по сути уже никак не связана со спарком, всё делается на уровне встроенных средств питона для работы со множествами\n",
        "unique_hashtags_by_period = []\n",
        "# Пробежим по списку хэштегов\n",
        "for current_period_hashtags in hashtags:\n",
        "    # current_period_hashtags - список тегов для текущего временного промежутка\n",
        "    # Создадим множество (те каждый элемент уникальный) из тегов из всех временных промежутков, за исключением тегов текущего временного промежутка\n",
        "    all_hashtags_without_current = set.union(*[set(hashtag) for hashtag in hashtags if hashtag != current_period_hashtags])\n",
        "    # Превратим список тегов для текущего временного промежутка в множество\n",
        "    current_period_hashtags_set = set(current_period_hashtags)\n",
        "    # Вычислим разность множеств, те из всего множества тегов выберем те, которые встречаются только в данном временном промежутке\n",
        "    # Загугли диаграммы Эйлера-Венна для разности множеств и поймёшь идею\n",
        "    # Если непонятно, добавь print, чтобы увидеть множества и что с ними происходит\n",
        "    unique_hashtags = current_period_hashtags_set - all_hashtags_without_current\n",
        "    # Добавим к результату\n",
        "    unique_hashtags_by_period.append(unique_hashtags)"
      ],
      "execution_count": null,
      "outputs": []
    },
    {
      "cell_type": "markdown",
      "metadata": {
        "id": "SQU1anIwwSp4"
      },
      "source": [
        "Выведем результат"
      ]
    },
    {
      "cell_type": "code",
      "metadata": {
        "colab": {
          "base_uri": "https://localhost:8080/"
        },
        "id": "KN87mukx7VW_",
        "outputId": "969964e6-4a7e-4c8f-de46-4334bdf893de"
      },
      "source": [
        "print_line()\n",
        "for i in range(len(periods)):\n",
        "    print(f'Period from {periods[i][0]} to {periods[i][1]}, unique hashtags: {unique_hashtags_by_period[i]}')\n",
        "    print_line()"
      ],
      "execution_count": null,
      "outputs": [
        {
          "output_type": "stream",
          "text": [
            "------------------------------\n",
            "Period from 2018-07-01 00:00:00 to 2018-07-01 23:59:59, unique hashtags: {'POR', 'FRAARG', 'ARG'}\n",
            "------------------------------\n",
            "Period from 2018-07-02 00:00:00 to 2018-07-02 23:59:59, unique hashtags: {'ESP', 'LayLeague', 'RUS'}\n",
            "------------------------------\n",
            "Period from 2018-07-03 00:00:00 to 2018-07-03 23:59:59, unique hashtags: {'COLENG', 'BRA', 'SWE', 'ENGCOL', 'URU'}\n",
            "------------------------------\n",
            "Period from 2018-07-04 00:00:00 to 2018-07-04 23:59:59, unique hashtags: {'HereToCreate', '??', 'dafBAMA2018EXO', 'Worldcup', 'EXO'}\n",
            "------------------------------\n",
            "Period from 2018-07-10 00:00:00 to 2018-07-10 23:59:59, unique hashtags: {'Belgium', 'France', 'FRABEL', 'WorldCupFinal', 'REDTOGETHER'}\n",
            "------------------------------\n"
          ],
          "name": "stdout"
        }
      ]
    },
    {
      "cell_type": "markdown",
      "metadata": {
        "id": "0XBgDecawVXG"
      },
      "source": [
        "3. Определить, для каких двух промежутков наиболее близкое друг к другу соотношение частоты встречаемости хештегов."
      ]
    },
    {
      "cell_type": "code",
      "metadata": {
        "colab": {
          "base_uri": "https://localhost:8080/"
        },
        "id": "oG2QNaRT4_Dj",
        "outputId": "63b055e1-74eb-47be-cae5-2ca591f77b11"
      },
      "source": [
        "# Найдём топ-10 тегов. \"частоты встречаемости хештегов\" - каких? всех? непонятно, поэтому и берём топ-10\n",
        "# тут ничего нового, см код из 1-го задания\n",
        "all_hashtags_with_count_rdd = main_df.rdd \\\n",
        "    .map(lambda x: x['Hashtags']) \\\n",
        "    .filter(lambda x: x != None) \\\n",
        "    .flatMap(lambda x: [hashtags for hashtags in x.split(',')]) \\\n",
        "    .filter(lambda x: x != excluded_hashtag)\n",
        "# посчитаем, сколько раз каждый из тегов встречался в датасете\n",
        "all_hashtags_with_count = all_hashtags_with_count_rdd \\\n",
        "    .countByValue()\n",
        "# Отсортируем полученный словарь по значению, те по количеству встречаемости тега\n",
        "# те в начале окажутся наиболее популярные хэштеги\n",
        "all_hashtags_with_count_sorted = sort_dict_by_value(all_hashtags_with_count)\n",
        "# а теперь просто возьмём первые 10 элементов словаря (ключей и значений), это и будут топ-10 хэштегов из всего датасета\n",
        "top10_hashtags_with_count = take(10, all_hashtags_with_count_sorted.items())\n",
        "# теперь количество встречаемости тега нам не нужно, избавимся от количества, создав новый список, в котором будут только теги\n",
        "top10_hashtags = [hashtag for hashtag, count in top10_hashtags_with_count]\n",
        "print(f'Top 10 hashtags: {\", \".join(top10_hashtags)}')"
      ],
      "execution_count": null,
      "outputs": [
        {
          "output_type": "stream",
          "text": [
            "Top 10 hashtags: FRA, worldcup, CRO, WorldCupFinal, ENG, FRAARG, FRABEL, FRACRO, BEL, ARG\n"
          ],
          "name": "stdout"
        }
      ]
    },
    {
      "cell_type": "code",
      "metadata": {
        "colab": {
          "base_uri": "https://localhost:8080/"
        },
        "id": "vDQl9Ehj5JAv",
        "outputId": "aceb7bad-9ab5-4e02-96af-295f1c7225e1"
      },
      "source": [
        "# словарь: ключ - период (кортеж из двух элементов, начало и конец периода)\n",
        "# значение - словарь: ключ - тег из топ10, значение - количество упоминаний этого тега за данный период\n",
        "all_hashtags_with_count_by_period = {}\n",
        "# бежим по периодам\n",
        "for period in periods:\n",
        "    # создаём новый рдд, очень похожий на тот, что из первого задания\n",
        "    # однако тут добавляем ещё один фильтр:\n",
        "    # filter(lambda x: top10_hashtags.count(x) == 1)\n",
        "    # те из всего множества тегов мы берём только те, что из топ-10\n",
        "    # top10_hashtags.count(x) == 1 - top10_hashtags - это список (см. выше), х - текущий тег\n",
        "    # и если он есть в списке (== 1), то окей, берём этот тег, иначе игноригуем\n",
        "    period_rdd = main_df.rdd \\\n",
        "        .map(lambda x: (dt.datetime.strptime(x['Date'], datetime_format), x['Hashtags'])) \\\n",
        "        .filter(lambda x: x[0] > period[0] and x[0] < period[1] and x[1] != None) \\\n",
        "        .flatMap(lambda x: [hashtags for hashtags in x[1].split(',')]) \\\n",
        "        .filter(lambda x: x != excluded_hashtag) \\\n",
        "        .filter(lambda x: top10_hashtags.count(x) == 1)\n",
        "    # посчитаем, сколько раз каждый из тегов встречался в этом рдд (те во текущем временном промежутке)\n",
        "    all_hashtags_with_count = period_rdd \\\n",
        "        .countByValue()\n",
        "    # складируем результат\n",
        "    all_hashtags_with_count_by_period[period] = all_hashtags_with_count\n",
        "    print(all_hashtags_with_count) # это для отладки"
      ],
      "execution_count": null,
      "outputs": [
        {
          "output_type": "stream",
          "text": [
            "defaultdict(<class 'int'>, {'worldcup': 5379, 'CRO': 9837, 'BEL': 332, 'FRAARG': 3998, 'FRA': 3992, 'ARG': 3229, 'ENG': 1286, 'WorldCupFinal': 3})\n",
            "defaultdict(<class 'int'>, {'ENG': 92, 'worldcup': 703, 'ARG': 141, 'CRO': 541, 'FRA': 312, 'FRAARG': 212, 'BEL': 148})\n",
            "defaultdict(<class 'int'>, {'ENG': 8629, 'worldcup': 1871, 'BEL': 611, 'FRA': 608, 'CRO': 278, 'ARG': 43, 'FRAARG': 4, 'WorldCupFinal': 1})\n",
            "defaultdict(<class 'int'>, {'ENG': 1640, 'worldcup': 632, 'CRO': 54, 'FRA': 127, 'BEL': 129, 'ARG': 27, 'FRAARG': 4})\n",
            "defaultdict(<class 'int'>, {'FRA': 11118, 'ENG': 3876, 'FRABEL': 18750, 'BEL': 7132, 'worldcup': 4678, 'CRO': 1414, 'ARG': 28, 'WorldCupFinal': 1627, 'FRAARG': 7, 'FRACRO': 3})\n"
          ],
          "name": "stdout"
        }
      ]
    },
    {
      "cell_type": "code",
      "metadata": {
        "colab": {
          "base_uri": "https://localhost:8080/"
        },
        "id": "gdcg7zL1ATgi",
        "outputId": "437b4998-79c7-4b32-8bb9-47ee4a8c4ae3"
      },
      "source": [
        "# Выводим результат\n",
        "print_line()\n",
        "# бежим по топу хештегов\n",
        "for hashtag in top10_hashtags:\n",
        "    print(f'Hashtag \"{hashtag}\"')\n",
        "    # временная переменная\n",
        "    hashtags_count_in_period = {}\n",
        "    # бежим по словарю\n",
        "    for period, hashtags in all_hashtags_with_count_by_period.items():\n",
        "        # сохраняем в словаре по ключу \"текущий период\" количество упоминаний данного тега в текущем периоде\n",
        "        hashtags_count_in_period[period] = hashtags[hashtag] if hashtag in hashtags else 0 # хэштэга может не оказаться, поэтому проверяем есть ли количество упоминаний\n",
        "    # отсортируем результат по занчению (количеству упоминаний)\n",
        "    hashtags_count_in_period_sorted = sort_dict_by_value(hashtags_count_in_period)\n",
        "    # возьмём первые два элемента словаря - это и будут два самых упоминаемых хэштега\n",
        "    first2_elements = take(2, hashtags_count_in_period_sorted.items())\n",
        "    # извлекём данные этих двух элементов\n",
        "    (period1_start, period1_end), frequency1 = first2_elements[0]\n",
        "    (period2_start, period2_end), frequency2 = first2_elements[1]\n",
        "    # красивенько (или не очень) выведем результат\n",
        "    print(f'Period 1: {period1_start.strftime(datetime_format)} - {period1_end.strftime(datetime_format)}, frequency {frequency1}')\n",
        "    print(f'Period 2: {period2_start.strftime(datetime_format)} - {period2_end.strftime(datetime_format)}, frequency {frequency2}')\n",
        "    print_line()\n",
        "# таким образом мы нашли по два периода для каждого из тегов из топ-10, в которых данный тег упоминался чаще всего"
      ],
      "execution_count": null,
      "outputs": [
        {
          "output_type": "stream",
          "text": [
            "------------------------------\n",
            "Hashtag \"FRA\"\n",
            "Period 1: 2018-07-10 00:00:00 - 2018-07-10 23:59:59, frequency 11118\n",
            "Period 2: 2018-07-01 00:00:00 - 2018-07-01 23:59:59, frequency 3992\n",
            "------------------------------\n",
            "Hashtag \"worldcup\"\n",
            "Period 1: 2018-07-01 00:00:00 - 2018-07-01 23:59:59, frequency 5379\n",
            "Period 2: 2018-07-10 00:00:00 - 2018-07-10 23:59:59, frequency 4678\n",
            "------------------------------\n",
            "Hashtag \"CRO\"\n",
            "Period 1: 2018-07-01 00:00:00 - 2018-07-01 23:59:59, frequency 9837\n",
            "Period 2: 2018-07-10 00:00:00 - 2018-07-10 23:59:59, frequency 1414\n",
            "------------------------------\n",
            "Hashtag \"WorldCupFinal\"\n",
            "Period 1: 2018-07-10 00:00:00 - 2018-07-10 23:59:59, frequency 1627\n",
            "Period 2: 2018-07-01 00:00:00 - 2018-07-01 23:59:59, frequency 3\n",
            "------------------------------\n",
            "Hashtag \"ENG\"\n",
            "Period 1: 2018-07-03 00:00:00 - 2018-07-03 23:59:59, frequency 8629\n",
            "Period 2: 2018-07-10 00:00:00 - 2018-07-10 23:59:59, frequency 3876\n",
            "------------------------------\n",
            "Hashtag \"FRAARG\"\n",
            "Period 1: 2018-07-01 00:00:00 - 2018-07-01 23:59:59, frequency 3998\n",
            "Period 2: 2018-07-02 00:00:00 - 2018-07-02 23:59:59, frequency 212\n",
            "------------------------------\n",
            "Hashtag \"FRABEL\"\n",
            "Period 1: 2018-07-10 00:00:00 - 2018-07-10 23:59:59, frequency 18750\n",
            "Period 2: 2018-07-01 00:00:00 - 2018-07-01 23:59:59, frequency 0\n",
            "------------------------------\n",
            "Hashtag \"FRACRO\"\n",
            "Period 1: 2018-07-10 00:00:00 - 2018-07-10 23:59:59, frequency 3\n",
            "Period 2: 2018-07-01 00:00:00 - 2018-07-01 23:59:59, frequency 0\n",
            "------------------------------\n",
            "Hashtag \"BEL\"\n",
            "Period 1: 2018-07-10 00:00:00 - 2018-07-10 23:59:59, frequency 7132\n",
            "Period 2: 2018-07-03 00:00:00 - 2018-07-03 23:59:59, frequency 611\n",
            "------------------------------\n",
            "Hashtag \"ARG\"\n",
            "Period 1: 2018-07-01 00:00:00 - 2018-07-01 23:59:59, frequency 3229\n",
            "Period 2: 2018-07-02 00:00:00 - 2018-07-02 23:59:59, frequency 141\n",
            "------------------------------\n"
          ],
          "name": "stdout"
        }
      ]
    }
  ]
}