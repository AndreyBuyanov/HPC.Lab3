{
  "nbformat": 4,
  "nbformat_minor": 0,
  "metadata": {
    "colab": {
      "name": "HPC.Lab3.V2.ipynb",
      "provenance": [],
      "collapsed_sections": [],
      "authorship_tag": "ABX9TyNfFA4ku1mbT78M2Xs01da9",
      "include_colab_link": true
    },
    "kernelspec": {
      "name": "python3",
      "display_name": "Python 3"
    },
    "language_info": {
      "name": "python"
    }
  },
  "cells": [
    {
      "cell_type": "markdown",
      "metadata": {
        "id": "view-in-github",
        "colab_type": "text"
      },
      "source": [
        "<a href=\"https://colab.research.google.com/github/AndreyBuyanov/HPC.Lab3/blob/main/HPC_Lab3_V2.ipynb\" target=\"_parent\"><img src=\"https://colab.research.google.com/assets/colab-badge.svg\" alt=\"Open In Colab\"/></a>"
      ]
    },
    {
      "cell_type": "markdown",
      "metadata": {
        "id": "w663WUetlLzt"
      },
      "source": [
        "Отчёт https://disk.yandex.ru/i/5cJmnSPjYWXD5Q"
      ]
    },
    {
      "cell_type": "code",
      "metadata": {
        "id": "vtJXiq_um6L1",
        "colab": {
          "resources": {
            "http://localhost:8080/nbextensions/google.colab/files.js": {
              "data": "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",
              "ok": true,
              "headers": [
                [
                  "content-type",
                  "application/javascript"
                ]
              ],
              "status": 200,
              "status_text": ""
            }
          },
          "base_uri": "https://localhost:8080/",
          "height": 91
        },
        "outputId": "3b9bf568-ee34-44ed-86b9-800f8488a84c"
      },
      "source": [
        "import os\n",
        "os.environ['APACHE_SPARK_DISTR_NAME'] = 'spark-3.0.2-bin-hadoop2.7'\n",
        "os.environ['APACHE_SPARK_URL'] = 'https://downloads.apache.org/spark/spark-3.0.2/spark-3.0.2-bin-hadoop2.7.tgz'\n",
        "os.environ['JAVA_HOME'] = '/usr/lib/jvm/java-11-openjdk-amd64'\n",
        "os.environ['SPARK_HOME'] = '/content/spark-3.0.2-bin-hadoop2.7'\n",
        "from google.colab import files\n",
        "files.upload()"
      ],
      "execution_count": null,
      "outputs": [
        {
          "output_type": "display_data",
          "data": {
            "text/html": [
              "\n",
              "     <input type=\"file\" id=\"files-a673ab75-1572-4cbf-9a1f-f39381297f1d\" name=\"files[]\" multiple disabled\n",
              "        style=\"border:none\" />\n",
              "     <output id=\"result-a673ab75-1572-4cbf-9a1f-f39381297f1d\">\n",
              "      Upload widget is only available when the cell has been executed in the\n",
              "      current browser session. Please rerun this cell to enable.\n",
              "      </output>\n",
              "      <script src=\"/nbextensions/google.colab/files.js\"></script> "
            ],
            "text/plain": [
              "<IPython.core.display.HTML object>"
            ]
          },
          "metadata": {
            "tags": []
          }
        },
        {
          "output_type": "stream",
          "text": [
            "Saving kaggle.json to kaggle (1).json\n"
          ],
          "name": "stdout"
        },
        {
          "output_type": "execute_result",
          "data": {
            "text/plain": [
              "{'kaggle.json': b'{\"username\":\"andreew\",\"key\":\"9237cca134821160d9d733ffd68a809c\"}'}"
            ]
          },
          "metadata": {
            "tags": []
          },
          "execution_count": 20
        }
      ]
    },
    {
      "cell_type": "code",
      "metadata": {
        "id": "k-AtmHg3lmf0",
        "colab": {
          "base_uri": "https://localhost:8080/"
        },
        "outputId": "147ed347-d483-47bd-95b9-a98c9fbe952b"
      },
      "source": [
        "%%bash\n",
        "apt-get install openjdk-11-jdk-headless -qq > /dev/null\n",
        "[ ! -d $APACHE_SPARK_DISTR_NAME ] \\\n",
        "   && wget -q $APACHE_SPARK_URL \\\n",
        "   && tar xf $APACHE_SPARK_DISTR_NAME.tgz \\\n",
        "   && rm -f $APACHE_SPARK_DISTR_NAME.tgz\n",
        "pip install findspark > /dev/null\n",
        "mkdir /root/.kaggle\n",
        "cp kaggle.json /root/.kaggle\n",
        "chmod 600 /root/.kaggle/kaggle.json\n",
        "[ ! -f FIFA.csv ] \\\n",
        "    && kaggle datasets download -d rgupta09/world-cup-2018-tweets \\\n",
        "    && unzip -q world-cup-2018-tweets \\\n",
        "    && rm -f world-cup-2018-tweets.zip"
      ],
      "execution_count": null,
      "outputs": [
        {
          "output_type": "stream",
          "text": [
            "mkdir: cannot create directory ‘/root/.kaggle’: File exists\n"
          ],
          "name": "stderr"
        }
      ]
    },
    {
      "cell_type": "code",
      "metadata": {
        "id": "Cr_XVa4XuaAK"
      },
      "source": [
        "debug = False\n",
        "def DbgPrint(log):\n",
        "    if debug:\n",
        "        print(log)"
      ],
      "execution_count": null,
      "outputs": []
    },
    {
      "cell_type": "code",
      "metadata": {
        "id": "VZsUVAPrnDxi"
      },
      "source": [
        "import findspark\n",
        "findspark.init()\n",
        "\n",
        "from pyspark.sql import SparkSession\n",
        "spark = SparkSession.builder.master('local').appName(\"HPC.Lab3\").getOrCreate()"
      ],
      "execution_count": null,
      "outputs": []
    },
    {
      "cell_type": "code",
      "metadata": {
        "colab": {
          "base_uri": "https://localhost:8080/"
        },
        "id": "_D2MR02YpLsG",
        "outputId": "a19254da-9156-4258-c7a9-f1693d44fbed"
      },
      "source": [
        "main_df = spark.read.csv('FIFA.csv', header=True, multiLine=True, escape=\"\\\"\")\n",
        "main_df.show(truncate=False)"
      ],
      "execution_count": null,
      "outputs": [
        {
          "output_type": "stream",
          "text": [
            "+-------------------+----+-------------------+-------------------+---+----------------------------------------------------------------------------------------------------------------------------------------------------------------------+-------------------------------------------------------------------------------------------------------------------------+-----+----+-------------------------------------------------------+---------------------------------------------+----------------------------------------------------------+----------------------+----------------------+---------+-------+\n",
            "|ID                 |lang|Date               |Source             |len|Orig_Tweet                                                                                                                                                            |Tweet                                                                                                                    |Likes|RTs |Hashtags                                               |UserMentionNames                             |UserMentionID                                             |Name                  |Place                 |Followers|Friends|\n",
            "+-------------------+----+-------------------+-------------------+---+----------------------------------------------------------------------------------------------------------------------------------------------------------------------+-------------------------------------------------------------------------------------------------------------------------+-----+----+-------------------------------------------------------+---------------------------------------------+----------------------------------------------------------+----------------------+----------------------+---------+-------+\n",
            "|1013597060640145408|en  |2018-07-02 01:35:45|Twitter for Android|140|RT @Squawka: Only two goalkeepers have saved three penalties in a #WorldCup penalty shoot-out: \n",
            "\n",
            "1/7/2006: #POR's Ricardo vs. #ENG \n",
            "\n",
            "1/7/20…                          |Only two goalkeepers have saved three penalties in penalty shoot out Ricardo vs                                          |0    |477 |WorldCup,POR,ENG                                       |Squawka Football                             |Squawka                                                   |Cayleb                |Accra                 |861      |828    |\n",
            "|1013597056219295744|en  |2018-07-02 01:35:44|Twitter for Android|139|RT @FCBarcelona: ?? @ivanrakitic scores the winning penalty to send @HNS_CFF into the #WorldCup quarter-finals, where they'll face Russia!…                           |scores the winning penalty to send into the quarter finals where they will face Russia                                   |0    |1031|WorldCup                                               |FC Barcelona,Ivan Rakitic,HNS | CFF          |FCBarcelona,ivanrakitic,HNS_CFF                           |Febri Aditya          |Bogor                 |667      |686    |\n",
            "|1013597047482544130|en  |2018-07-02 01:35:42|Twitter for Android|107|RT @javierfernandez: Tonight we have big game.... @EvgeniPlushenko ?????? #worldcup https://t.co/LKifuNlubC                                                           |Tonight we have big game                                                                                                 |0    |488 |worldcup                                               |Javier Fernandez,Evgeni Plushenko            |javierfernandez,EvgeniPlushenko                           |??                    |null                  |65       |67     |\n",
            "|1013597044198391808|en  |2018-07-02 01:35:41|Twitter Web Client |142|We get stronger\n",
            "Turn the music up now\n",
            "We got that power power~\n",
            "\n",
            "#PowerByEXO #WorldCup #FIFAStadiumDJ #XiuminLeague \n",
            "@weareoneEXO @FIFAWorldCup                        |We get stronger Turn the music up now We got that power power                                                            |0    |0   |PowerByEXO,WorldCup,FIFAStadiumDJ,XiuminLeague         |EXO,FIFA World Cup ?                         |weareoneEXO,FIFAWorldCup                                  |Frida Carrillo        |Zapopan, Jalisco      |17       |89     |\n",
            "|1013597039999926272|en  |2018-07-02 01:35:40|Twitter for Android|140|RT @Squawka: Only two goalkeepers have saved three penalties in a #WorldCup penalty shoot-out: \n",
            "\n",
            "1/7/2006: #POR's Ricardo vs. #ENG \n",
            "\n",
            "1/7/20…                          |Only two goalkeepers have saved three penalties in penalty shoot out Ricardo vs                                          |0    |477 |WorldCup,POR,ENG                                       |Squawka Football                             |Squawka                                                   |tar                   |null                  |137      |216    |\n",
            "|1013597039995867143|en  |2018-07-02 01:35:40|Twitter for Android|140|RT @FIFAWorldCup: \"We’re looking strong going into the knockout stage\" ?\n",
            "We caught up with @CBF_Futebol's @Casemiro ahead of #BRAMEX\n",
            "#World…                          |We re looking strong going into the knockout stage We caught up with ahead of                                            |0    |153 |BRAMEX                                                 |FIFA World Cup ?,CBF Futebol,Casemiro        |FIFAWorldCup,CBF_Futebol,Casemiro                         |Ligefut               |null                  |29       |283    |\n",
            "|1013597039978995712|en  |2018-07-02 01:35:40|Twitter for iPhone |140|RT @ShShShShShSh555: I'm happy for #Russia winning. Especially since, you know, we colluded and all. \n",
            "Russia eliminates Spain after penalty…                          |am happy for winning Especially since you know we colluded and all Russia eliminates Spain after penalty                 |0    |4   |Russia                                                 |V?Deplorable?45  ??                          |ShShShShShSh555                                           |?a?????               |Mount Olympus         |208      |338    |\n",
            "|1013597038951436288|en  |2018-07-02 01:35:40|Twitter Web Client |138|RT @FridaCarrillo05: When you see me\n",
            "When we feel the same feeling\n",
            "Power power~\n",
            "\n",
            "?????\n",
            "#PowerByEXO #WorldCup #FIFAStadiumDJ #XiuminLeague…                            |When you see me When we feel the same feeling Power power                                                                |0    |1   |PowerByEXO,WorldCup,FIFAStadiumDJ,XiuminLeague         |Frida Carrillo                               |FridaCarrillo05                                           |STAN LEGENDS, STAN EXO|Lima, Peru            |7        |9      |\n",
            "|1013597038188154880|en  |2018-07-02 01:35:40|Twitter for Android|138|RT @FIFAWorldCup: Kasper Schmeichel takes the final @Budweiser #ManoftheMatch award of the day ?\n",
            "#CRODEN #WorldCup https://t.co/2XfblBT7ki                            |Kasper Schmeichel takes the final award of the day                                                                       |0    |2199|ManoftheMatch,CRODEN,WorldCup                          |FIFA World Cup ?,Budweiser                   |FIFAWorldCup,Budweiser                                    |Sky Ler               |null                  |1        |6      |\n",
            "|1013597037118525440|en  |2018-07-02 01:35:40|Twitter Lite       |139|RT @BTSARMYNA: .@BTS_twt After 5 Years\n",
            "1. Global Puma Ambassador\n",
            "2. LG Mobile Ambassador\n",
            "3. CocaCola WorldCup\n",
            "4. Kookmin Bank\n",
            "5. UNICEF\n",
            "6.…                           |After Years Global Puma Ambassador LG Mobile Ambassador CocaCola WorldCup Kookmin Bank UNICEF                            |0    |5146|null                                                   |???? & ???? ???? ™ ??,?????                  |BTSARMYNA,BTS_twt                                         |Kate                  |Meme City             |158      |245    |\n",
            "|1013597036178956288|en  |2018-07-02 01:35:39|Twitter for Android|86 |RT @EllaPangilinanx: Idek what to do anymore. \n",
            "Spain and Portugal both out ? #WorldCup                                                                                |Idek what to do anymore Spain and Portugal both out                                                                      |0    |1   |WorldCup                                               |Ella Laxa-Pangilinan                         |EllaPangilinanx                                           |Alice                 |Bulacan, Central Luzon|34       |315    |\n",
            "|1013597036090818560|en  |2018-07-02 01:35:39|Twitter for Android|135|RT @SiClancy: I know it’s been an amazing World Cup but this is a bit too much excitement from Nacho. #worldcup https://t.co/PUCzb7nLP1                               |know it been an amazing World Cup but this is bit too much excitement from Nacho                                         |0    |3817|worldcup                                               |Simon Clancy                                 |SiClancy                                                  |Goku                  |Barcelona             |105      |51     |\n",
            "|1013597035679739904|en  |2018-07-02 01:35:39|Twitter for iPhone |139|RT @valpan026: @eunicehuili @RachelWeng3 @FIFAWorldCup @weareoneEXO #POWER by our happy virus #EXO will be a perfect choice. Happy always~…                           |by our happy virus will be perfect choice Happy always                                                                   |0    |107 |POWER,EXO                                              |Shiqi,Eunice,Rachel Weng,FIFA World Cup ?,EXO|valpan026,eunicehuili,RachelWeng3,FIFAWorldCup,weareoneEXO|ELyXiOn               |null                  |12       |88     |\n",
            "|1013597035629555712|en  |2018-07-02 01:35:39|Twitter for iPad   |166|Get the best in sports news and information by going to https://t.co/FMD00iDrGp new shows coming soon! #sportstalk #sportstalkradio #NBA #NHL #MLB #NFL #PGA #WORLDCUP|Get the best in sports news and information by going to new shows coming soon                                            |0    |0   |sportstalk,sportstalkradio,NBA,NHL,MLB,NFL,PGA,WORLDCUP|null                                         |null                                                      |JSA                   |null                  |1978     |4288   |\n",
            "|1013597035407298560|en  |2018-07-02 01:35:39|Twitter for iPad   |140|RT @IanStaffs: Just worked out that if England can get past Colombia (probable) then either Sweden or Switzerland in the quarters (very doa…                          |Just worked out that if England can get past Colombia probable then either Sweden or Switzerland in the quarters very doa|0    |7   |null                                                   |Ian Stafford                                 |IanStaffs                                                 |SKS Media India       |Mumbai, India         |2147     |2403   |\n",
            "|1013597030546051072|en  |2018-07-02 01:35:38|Twitter for iPhone |139|RT @CCFCFan1927: People getting rightly excited over Mbappe after his performance at 19.\n",
            "Let's not forget though, the man they were hating…                           |People getting rightly excited over Mbappe after his performance at Lets not forget though the man they were hating      |0    |6889|null                                                   |CCFCFan                                      |CCFCFan1927                                               |??                    |The netherlands       |2167     |956    |\n",
            "|1013597029623189504|en  |2018-07-02 01:35:38|Twitter for Android|88 |RT @dw_sports: 2 PENALTY SHOOTOUTS IN ONE DAY! #CRODEN #WorldCup https://t.co/Y2O33Ukv4B                                                                              |PENALTY SHOOTOUTS IN ONE DAY                                                                                             |0    |17  |CRODEN,WorldCup                                        |DW Sports                                    |dw_sports                                                 |miikii                |Thailand              |187      |188    |\n",
            "|1013597029434474497|en  |2018-07-02 01:35:38|Twitter Web Client |140|RT @Onyema_Donald: ?? Edinson Cavani for Napoli:\n",
            "\n",
            "? Games: 138 \n",
            "?? Goals: 104\n",
            "\n",
            "?? Edinson Cavani for PSG:\n",
            "\n",
            "? Games: 245\n",
            "?? Goals: 170\n",
            "\n",
            "?? E…                          |Edinson Cavani for Napoli Games Goals Edinson Cavani for PSG Games Goals                                                 |0    |70  |null                                                   |Your Village People                          |Onyema_Donald                                             |mattorazi             |null                  |85       |137    |\n",
            "|1013597025974169600|en  |2018-07-02 01:35:37|Twitter for Android|140|RT @FIFAWorldCup: ?? | \"Japan have never made it past the last eight, so we want to get there\" ?\n",
            "?? Can @jfa_samuraiblue reach the #WorldCu…                          |Japan have never made it past the last eight so we want to get there Can reach the                                       |0    |219 |null                                                   |FIFA World Cup ?,????????                    |FIFAWorldCup,jfa_samuraiblue                              |Michelle??#StanBAP    |Orange County, CA     |109      |297    |\n",
            "|1013597022992195585|en  |2018-07-02 01:35:36|Twitter for iPad   |120|RT @IanStaffs: Wonder what the odds were on Messi, Ronaldo and Modric all missing penalties at this world cup? #WorldCup                                              |Wonder what the odds were on Messi Ronaldo and Modric all missing penalties at this world cup                            |0    |4   |WorldCup                                               |Ian Stafford                                 |IanStaffs                                                 |SKS Media India       |Mumbai, India         |2147     |2403   |\n",
            "+-------------------+----+-------------------+-------------------+---+----------------------------------------------------------------------------------------------------------------------------------------------------------------------+-------------------------------------------------------------------------------------------------------------------------+-----+----+-------------------------------------------------------+---------------------------------------------+----------------------------------------------------------+----------------------+----------------------+---------+-------+\n",
            "only showing top 20 rows\n",
            "\n"
          ],
          "name": "stdout"
        }
      ]
    },
    {
      "cell_type": "markdown",
      "metadata": {
        "id": "kqwuF-u37Fh9"
      },
      "source": [
        "1. Получить пять пользователей, которых упоминали в твитах чаще всего. "
      ]
    },
    {
      "cell_type": "code",
      "metadata": {
        "id": "yHj7J2UhAttT"
      },
      "source": [
        "def sort_dict_by_value(dict, reverse=True):\n",
        "    return {key: value for key, value in sorted(dict.items(), key=lambda x: x[1], reverse=reverse)}\n",
        "\n",
        "from itertools import islice\n",
        "def take(n, iterable):\n",
        "    return list(islice(iterable, n))\n",
        "\n",
        "def print_line(length=30):\n",
        "    print('-' * length)"
      ],
      "execution_count": null,
      "outputs": []
    },
    {
      "cell_type": "markdown",
      "metadata": {
        "id": "CpjvYvPO3-PP"
      },
      "source": [
        "В строке может находиться несколько пользователей. Поэтому разделяем их, превращая в список. Затем создаём RDD, в строках которого содержится только одно имя пользователя"
      ]
    },
    {
      "cell_type": "code",
      "metadata": {
        "id": "QxgWCHObR-m8"
      },
      "source": [
        "user_mention_id_rdd = main_df.rdd \\\n",
        "    .filter(lambda x: x['UserMentionID'] != None) \\\n",
        "    .flatMap(lambda x: x['UserMentionID'].split(','))"
      ],
      "execution_count": null,
      "outputs": []
    },
    {
      "cell_type": "markdown",
      "metadata": {
        "id": "iSuoCWXI4dUR"
      },
      "source": [
        "Создаём словарь, ключами которого являются имена пользователя, а значения - количество записей, соответствующих имени пользователя."
      ]
    },
    {
      "cell_type": "code",
      "metadata": {
        "id": "gV3Rdo0HOwNc"
      },
      "source": [
        "users_by_mentions = user_mention_id_rdd.countByValue()"
      ],
      "execution_count": null,
      "outputs": []
    },
    {
      "cell_type": "markdown",
      "metadata": {
        "id": "HLjMT0xZ5FEP"
      },
      "source": [
        "Сортируем полученный словарь по количеству записей."
      ]
    },
    {
      "cell_type": "code",
      "metadata": {
        "id": "6jVeDwrqgHTP"
      },
      "source": [
        "users_by_mentions_sorted = sort_dict_by_value(users_by_mentions)"
      ],
      "execution_count": null,
      "outputs": []
    },
    {
      "cell_type": "markdown",
      "metadata": {
        "id": "eaSlfZyP5NMd"
      },
      "source": [
        "Выбираем из словаря первые 5 записей. Таким образом получим 5 пользователей, которых упоминали чаще всего."
      ]
    },
    {
      "cell_type": "code",
      "metadata": {
        "colab": {
          "base_uri": "https://localhost:8080/"
        },
        "id": "_C56-ViAoAvz",
        "outputId": "d16df616-72d4-48d0-acc3-bf31d26dab5b"
      },
      "source": [
        "users_count = 5\n",
        "top_users_with_mentions = take(users_count, users_by_mentions_sorted.items())\n",
        "top_user_names = []\n",
        "for user, mentions in top_users_with_mentions:\n",
        "    top_user_names.append(user)\n",
        "    print(f'User: {user}, mentions: {mentions}')"
      ],
      "execution_count": null,
      "outputs": [
        {
          "output_type": "stream",
          "text": [
            "User: FIFAWorldCup, mentions: 91122\n",
            "User: KhaledBeydoun, mentions: 17507\n",
            "User: weareoneEXO, mentions: 14974\n",
            "User: HNS_CFF, mentions: 11836\n",
            "User: paulpogba, mentions: 11465\n"
          ],
          "name": "stdout"
        }
      ]
    },
    {
      "cell_type": "markdown",
      "metadata": {
        "id": "kJ104Ut-7Afa"
      },
      "source": [
        "2. Для каждого из этих пользователей определить десять наиболее часто употребляемых вместе с ними хештегов."
      ]
    },
    {
      "cell_type": "code",
      "metadata": {
        "id": "ypWJlLUtB3O_"
      },
      "source": [
        "excluded_hashtag = 'WorldCup'\n",
        "hashtags_rdd = main_df.rdd \\\n",
        "    .filter(lambda x: x['UserMentionID'] != None and x['Hashtags'] != None) \\\n",
        "    .flatMap(lambda x: [(users, hashtags) for users in x['UserMentionID'].split(',') for hashtags in x['Hashtags'].split(',')]) \\\n",
        "    .filter(lambda x: x[1].lower() != excluded_hashtag.lower()) # exclude WorldCup, Worldcup and worldcup"
      ],
      "execution_count": null,
      "outputs": []
    },
    {
      "cell_type": "code",
      "metadata": {
        "id": "0N0trNDRB5lx"
      },
      "source": [
        "def get_user_top_hashtags(rdd, user_name, top_hashtags_count=10):\n",
        "    user_hashtags = rdd \\\n",
        "        .filter(lambda x: x[0] == user_name) \\\n",
        "        .map(lambda x: x[1]) \\\n",
        "        .countByValue()\n",
        "    user_hashtags_sorted = sort_dict_by_value(user_hashtags)\n",
        "    return take(top_hashtags_count, user_hashtags_sorted.items())"
      ],
      "execution_count": null,
      "outputs": []
    },
    {
      "cell_type": "code",
      "metadata": {
        "id": "Yo-qtvOMCyps"
      },
      "source": [
        "users_with_top_hashtags = []\n",
        "DbgPrint(f'All users: {\", \".join(top_user_names)}')\n",
        "for user_name in top_user_names:\n",
        "    DbgPrint(f'Current user: {user_name}')\n",
        "    user_with_top_hashtags = get_user_top_hashtags(hashtags_rdd, user_name)\n",
        "    users_with_top_hashtags.append((user_name, user_with_top_hashtags))"
      ],
      "execution_count": null,
      "outputs": []
    },
    {
      "cell_type": "code",
      "metadata": {
        "colab": {
          "base_uri": "https://localhost:8080/"
        },
        "id": "4GiMFid4DdjM",
        "outputId": "6a933688-ba4b-47d9-ed1b-5c35b8b8b3c5"
      },
      "source": [
        "print_line()\n",
        "for user_name, top_hashtags in users_with_top_hashtags:\n",
        "    print(f'User: {user_name}')\n",
        "    for hashtag, count in top_hashtags:\n",
        "        print(f'Hashtag: {hashtag}, count {count}')\n",
        "    print_line()"
      ],
      "execution_count": null,
      "outputs": [
        {
          "output_type": "stream",
          "text": [
            "------------------------------\n",
            "User: FIFAWorldCup\n",
            "Hashtag: FRA, count 24786\n",
            "Hashtag: FIFAStadiumDJ, count 15525\n",
            "Hashtag: WorldCupFinal, count 13538\n",
            "Hashtag: FRACRO, count 9145\n",
            "Hashtag: PowerByEXO, count 8892\n",
            "Hashtag: CRO, count 8524\n",
            "Hashtag: BEL, count 6442\n",
            "Hashtag: FRABEL, count 5925\n",
            "Hashtag: EXO, count 4774\n",
            "Hashtag: CROENG, count 3631\n",
            "------------------------------\n",
            "User: KhaledBeydoun\n",
            "Hashtag: France, count 76\n",
            "Hashtag: Belgium, count 12\n",
            "Hashtag: FRA, count 2\n",
            "Hashtag: African, count 1\n",
            "Hashtag: sports, count 1\n",
            "Hashtag: arts, count 1\n",
            "Hashtag: music, count 1\n",
            "Hashtag: technology, count 1\n",
            "Hashtag: ideas, count 1\n",
            "Hashtag: Mbappe, count 1\n",
            "------------------------------\n",
            "User: weareoneEXO\n",
            "Hashtag: FIFAStadiumDJ, count 11177\n",
            "Hashtag: PowerByEXO, count 7997\n",
            "Hashtag: EXO, count 5538\n",
            "Hashtag: ??, count 3728\n",
            "Hashtag: dafBAMA2018EXO, count 1342\n",
            "Hashtag: Copa2018, count 562\n",
            "Hashtag: FIFAStadiumDj, count 521\n",
            "Hashtag: POWER, count 469\n",
            "Hashtag: ChanyeolLeague, count 367\n",
            "Hashtag: LayLeague, count 358\n",
            "------------------------------\n",
            "User: HNS_CFF\n",
            "Hashtag: CRO, count 8411\n",
            "Hashtag: CROENG, count 2365\n",
            "Hashtag: BeProud, count 1838\n",
            "Hashtag: Family, count 1489\n",
            "Hashtag: Vatreni, count 1471\n",
            "Hashtag: CRODEN, count 1233\n",
            "Hashtag: FlamingPride, count 886\n",
            "Hashtag: Croatia, count 841\n",
            "Hashtag: WorldCupFinal, count 786\n",
            "Hashtag: ManoftheMatch, count 256\n",
            "------------------------------\n",
            "User: paulpogba\n",
            "Hashtag: FRA, count 2890\n",
            "Hashtag: heretocreate, count 2309\n",
            "Hashtag: CRO, count 619\n",
            "Hashtag: BEL, count 592\n",
            "Hashtag: MUFC, count 162\n",
            "Hashtag: HereToCreate, count 129\n",
            "Hashtag: FRAARG, count 128\n",
            "Hashtag: WorldCupFinal, count 110\n",
            "Hashtag: U18PL, count 87\n",
            "Hashtag: ARG, count 76\n",
            "------------------------------\n"
          ],
          "name": "stdout"
        }
      ]
    },
    {
      "cell_type": "markdown",
      "metadata": {
        "id": "gdqanZDU0_h_"
      },
      "source": [
        "3. Выбрать из них пользователя, у которого хештеги наиболее отличается от четырёх остальных."
      ]
    },
    {
      "cell_type": "markdown",
      "metadata": {
        "id": "iC3z7tzqK5IW"
      },
      "source": [
        "Поочерёдно найдём общие теги у первого пользователя и у остальных."
      ]
    },
    {
      "cell_type": "code",
      "metadata": {
        "colab": {
          "base_uri": "https://localhost:8080/"
        },
        "id": "DcYBplOGG3Q-",
        "outputId": "b17bbea6-48f3-4411-864d-b62a3fb15664"
      },
      "source": [
        "first_user_name, first_user_hashtags_with_count = users_with_top_hashtags[0]\n",
        "first_user_hashtags = [hashtag for hashtag, count in first_user_hashtags_with_count]\n",
        "common_hashtags = []\n",
        "for user_name, hashtags_with_count in users_with_top_hashtags[1:]:\n",
        "    user_hashtags = [hashtag for hashtag, count in hashtags_with_count]\n",
        "    current_user_common_hashtags = list(set(first_user_hashtags) & set(user_hashtags))\n",
        "    print(f'Common hashtags for user {first_user_name} and user {user_name}: {\", \".join(current_user_common_hashtags)}')\n",
        "    common_hashtags.append(((first_user_name, user_name), current_user_common_hashtags))"
      ],
      "execution_count": null,
      "outputs": [
        {
          "output_type": "stream",
          "text": [
            "Common hashtags for user FIFAWorldCup and user KhaledBeydoun: FRA\n",
            "Common hashtags for user FIFAWorldCup and user weareoneEXO: FIFAStadiumDJ, PowerByEXO, EXO\n",
            "Common hashtags for user FIFAWorldCup and user HNS_CFF: CRO, WorldCupFinal, CROENG\n",
            "Common hashtags for user FIFAWorldCup and user paulpogba: BEL, CRO, WorldCupFinal, FRA\n"
          ],
          "name": "stdout"
        }
      ]
    },
    {
      "cell_type": "markdown",
      "metadata": {
        "id": "WqKEJBTfLHL3"
      },
      "source": [
        "Таким образом, будем считать, что пользователь, теги которого наиболее отличаются от других, это тот, у которого меньше всего общих тегов со всеми остальными. Полученный список содержит кортежи, в которых содержится кортеж из имён двух пользователей и список их общих тегов. Отсортируем список по длинне общих тегов и в первом элементе списка будет содержаться элемент с наименьшим количеством общих тегов, что и будет являтся решением задачи."
      ]
    },
    {
      "cell_type": "code",
      "metadata": {
        "colab": {
          "base_uri": "https://localhost:8080/"
        },
        "id": "Saovy3LIKZEo",
        "outputId": "3ee13d6a-a587-4ed6-8cd8-c1cc602af712"
      },
      "source": [
        "common_hashtags.sort(key=lambda x: len(x[1]))\n",
        "(first_user_name, user_name), hashtags = common_hashtags[0]\n",
        "print(f'The user named \"{user_name}\" has the most different hashtags. Hashtags: {\", \".join(hashtags)}')"
      ],
      "execution_count": null,
      "outputs": [
        {
          "output_type": "stream",
          "text": [
            "The user named \"KhaledBeydoun\" has the most different hashtags. Hashtags: FRA\n"
          ],
          "name": "stdout"
        }
      ]
    },
    {
      "cell_type": "markdown",
      "metadata": {
        "id": "A_sa-qVm1Fe5"
      },
      "source": [
        "4. Выбрать два пользователя, у которых наиболее близкое друг к другу соотношение частоты встречаемости выделенных хештегов."
      ]
    },
    {
      "cell_type": "code",
      "metadata": {
        "colab": {
          "base_uri": "https://localhost:8080/"
        },
        "id": "kWU4mrHdEpIm",
        "outputId": "07b13cfd-6e1b-47c7-cd0d-c98416e0271c"
      },
      "source": [
        "all_hashtags_with_count = hashtags_rdd \\\n",
        "    .map(lambda x: x[1]) \\\n",
        "    .countByValue()\n",
        "all_hashtags_with_count_sorted = sort_dict_by_value(all_hashtags_with_count)\n",
        "top10_hashtags_with_count = take(10, all_hashtags_with_count_sorted.items())\n",
        "top10_hashtags = [hashtag for hashtag, count in top10_hashtags_with_count]\n",
        "print(f'Top 10 hashtags: {\", \".join(top10_hashtags)}')"
      ],
      "execution_count": null,
      "outputs": [
        {
          "output_type": "stream",
          "text": [
            "Top 10 hashtags: FRA, CRO, FIFAStadiumDJ, WorldCupFinal, ENG, PowerByEXO, FRAARG, FRABEL, EXO, BEL\n"
          ],
          "name": "stdout"
        }
      ]
    },
    {
      "cell_type": "code",
      "metadata": {
        "id": "lRWO5pQg2qRc"
      },
      "source": [
        "excluded_user = 'FIFAWorldCup'\n",
        "exclude_user = True\n",
        "users_with_frequency = {}\n",
        "for hashtag in top10_hashtags:\n",
        "    users_count = hashtags_rdd \\\n",
        "        .filter(lambda x: x[1] == hashtag) \\\n",
        "        .filter(lambda x: x[0] != excluded_user if exclude_user else True) \\\n",
        "        .map(lambda x: x[0]) \\\n",
        "        .countByValue()\n",
        "    users_count_sorted = sort_dict_by_value(users_count)\n",
        "    users_with_frequency[hashtag] = take(2, users_count_sorted.items())\n",
        "    DbgPrint(users_with_frequency[hashtag])  "
      ],
      "execution_count": null,
      "outputs": []
    },
    {
      "cell_type": "code",
      "metadata": {
        "colab": {
          "base_uri": "https://localhost:8080/"
        },
        "id": "1_5QtTfgF6d9",
        "outputId": "d188ea5e-53ce-4693-aecc-b0f4dec9974a"
      },
      "source": [
        "print_line()\n",
        "for hashtag, data in users_with_frequency.items():\n",
        "    user1, frequency1 = data[0]\n",
        "    user2, frequency2 = data[1]\n",
        "    print(f'Hashtag: {hashtag}')\n",
        "    print(f'User 1: {user1}, frequency {frequency1} --> User 2: {user2}, frequency {frequency2}')\n",
        "    print_line()"
      ],
      "execution_count": null,
      "outputs": [
        {
          "output_type": "stream",
          "text": [
            "------------------------------\n",
            "Hashtag: FRA\n",
            "User 1: paulpogba, frequency 2890 --> User 2: ManUtd, frequency 2634\n",
            "------------------------------\n",
            "Hashtag: CRO\n",
            "User 1: HNS_CFF, frequency 8411 --> User 2: lukamodric10, frequency 4669\n",
            "------------------------------\n",
            "Hashtag: FIFAStadiumDJ\n",
            "User 1: weareoneEXO, frequency 11177 --> User 2: BTS_twt, frequency 2170\n",
            "------------------------------\n",
            "Hashtag: WorldCupFinal\n",
            "User 1: FrenchTeam, frequency 3214 --> User 2: SpursOfficial, frequency 1717\n",
            "------------------------------\n",
            "Hashtag: ENG\n",
            "User 1: HKane, frequency 6379 --> User 2: BBCMOTD, frequency 1348\n",
            "------------------------------\n",
            "Hashtag: PowerByEXO\n",
            "User 1: weareoneEXO, frequency 7997 --> User 2: justexoandexo12, frequency 664\n",
            "------------------------------\n",
            "Hashtag: FRAARG\n",
            "User 1: fussballerisch, frequency 1773 --> User 2: Football__Tweet, frequency 1341\n",
            "------------------------------\n",
            "Hashtag: FRABEL\n",
            "User 1: BelRedDevils, frequency 1560 --> User 2: FrenchTeam, frequency 1307\n",
            "------------------------------\n",
            "Hashtag: EXO\n",
            "User 1: weareoneEXO, frequency 5538 --> User 2: EXOGlobal, frequency 1421\n",
            "------------------------------\n",
            "Hashtag: BEL\n",
            "User 1: BelRedDevils, frequency 1032 --> User 2: ManUtd, frequency 614\n",
            "------------------------------\n"
          ],
          "name": "stdout"
        }
      ]
    }
  ]
}